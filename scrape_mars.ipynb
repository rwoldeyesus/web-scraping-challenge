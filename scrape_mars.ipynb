{
 "cells": [
  {
   "cell_type": "code",
   "execution_count": 1,
   "id": "academic-settlement",
   "metadata": {},
   "outputs": [],
   "source": [
    "from splinter import Browser\n",
    "import pandas as pd\n",
    "from bs4 import BeautifulSoup as bs"
   ]
  },
  {
   "cell_type": "code",
   "execution_count": null,
   "id": "cardiac-robin",
   "metadata": {},
   "outputs": [],
   "source": [
    "def scrape():\n",
    "    executable_path = {\"executable_path\":\"/usr/local/bin/chromedriver\"}\n",
    "    browser = Browser(\"chrome\",**executable_path,headless=False)\n",
    "    url = \"https://mars.nasa.gov/news/\"\n",
    "    browser.visit(url)\n",
    "    html = browser.html\n",
    "    soup = bs(html,\"html.parser\")\n",
    "    news = soup.find(\"ul\",class_=\"item_list\").find(\"div\",class_ = \"content_title\").get_text()\n",
    "    paragraph = soup.find(\"ul\",class_=\"item_list\").find(\"div\",class_ = \"article_teaser_body\").get_text()\n",
    "    url = \"https://www.jpl.nasa.gov/images/?search=&category=Mars\"\n",
    "    browser.visit(url)\n",
    "    html = browser.html\n",
    "    soup = bs(html,\"html.parser\")\n",
    "    featured_image_url = soup.find(\"div\",class_=\"BaseImagePlaceholder\").find(\"img\")[\"src\"]\n",
    "    featured_image_url\n",
    "    url = \"https://space-facts.com/mars/\"\n",
    "    browser.visit(url)\n",
    "    dfs = pd.read_html(url)\n",
    "    mars = dfs[0]\n",
    "    html_mars = mars_df.to_html()\n",
    "    html_mars\n",
    "    url = \"https://astrogeology.usgs.gov/search/results?q=hemisphere+enhanced&k1=target&v1=Mars\"\n",
    "    browser.visit(url)\n",
    "    solid = \"https://astrogeology.usgs.gov\"\n",
    "    hemi_list_dict = []\n",
    "    hemi_list = soup.find('div', class_= \"collapsible results\").find_all('div', class_=\"item\")\n",
    "\n",
    "\n",
    "    for hemi in hemi_list: \n",
    "        hemi_dict = {}\n",
    "        hemi_dict['title'] = hemi.text.strip()\n",
    "        hemi_ = hemi.find('a')['href']\n",
    "        hemi_url = solid + hemi_\n",
    "        browser.visit(hemi_url)\n",
    "        html = browser.html\n",
    "        soup = bs(html, \"html.parser\")\n",
    "        hemi_dict['img_url'] = soup.find(\"img\",class_=\"wide-image\")[\"src\"]\n",
    "        browser.visit(url)\n",
    "        html = browser.html\n",
    "        soup = bs(html,\"html.parser\")\n",
    "        hemi_list_dict.append(hemi_dict) \n",
    "\n",
    "    scrape_data = {\"news_title\": news, \"news_paragraph\": paragraph, \"feature image\": featured_image_url, \"hemi_list\": hemi_list_dict}\n",
    "    return scrape_data"
   ]
  }
 ],
 "metadata": {
  "kernelspec": {
   "display_name": "Python 3",
   "language": "python",
   "name": "python3"
  },
  "language_info": {
   "codemirror_mode": {
    "name": "ipython",
    "version": 3
   },
   "file_extension": ".py",
   "mimetype": "text/x-python",
   "name": "python",
   "nbconvert_exporter": "python",
   "pygments_lexer": "ipython3",
   "version": "3.8.5"
  }
 },
 "nbformat": 4,
 "nbformat_minor": 5
}
